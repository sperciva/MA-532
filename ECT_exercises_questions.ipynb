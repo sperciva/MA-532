{
 "cells": [
  {
   "cell_type": "markdown",
   "id": "6d28f4fb",
   "metadata": {},
   "source": [
    "# <center> Using the Euler Characteristic Transform on Protein Data </center>"
   ]
  },
  {
   "cell_type": "markdown",
   "id": "e6bacafc",
   "metadata": {},
   "source": [
    "### <center> Sarah Percival </center>\n",
    "<center> Department of Mathematics and Statistics, University of New Mexico</center>"
   ]
  },
  {
   "cell_type": "markdown",
   "id": "a6daae01",
   "metadata": {},
   "source": [
    "# Welcome\n",
    "This notebook focuses on the Euler Characteristic Transform. Email spercival@unm.edu with questions or comments."
   ]
  },
  {
   "cell_type": "markdown",
   "id": "1c244c40",
   "metadata": {},
   "source": [
    "# Goals\n",
    "* Learn Python basics\n",
    "* Apply the Euler Characteristic Transform (ECT) to protein data\n",
    "* Make efficient, scalable computations"
   ]
  },
  {
   "cell_type": "code",
   "execution_count": 6,
   "id": "dab19540",
   "metadata": {},
   "outputs": [],
   "source": [
    "# Python comes with a basic set of commands, but we need to import some packages to compute the ECT\n",
    "import numpy as np # matrix manipulation\n",
    "\n",
    "import matplotlib.pyplot as plt # image plotting\n",
    "\n",
    "import pandas as pd # viewing data"
   ]
  },
  {
   "cell_type": "code",
   "execution_count": 3,
   "id": "a1cad018",
   "metadata": {},
   "outputs": [],
   "source": [
    "# This command allows us to zoom and drag plots.\n",
    "%matplotlib notebook"
   ]
  },
  {
   "cell_type": "code",
   "execution_count": 9,
   "id": "1e4beec1",
   "metadata": {},
   "outputs": [],
   "source": [
    "# import the .pdb file as a Pandas dataframe"
   ]
  },
  {
   "cell_type": "code",
   "execution_count": 15,
   "id": "9c80e352",
   "metadata": {},
   "outputs": [],
   "source": [
    "# the main protein structure comes from the protein \"backbone\". This consists of atoms with values of 'N', 'C', or\n",
    "# 'CA' in columnn 2\n",
    "# select only the rows corresponding to atoms in the backbone"
   ]
  },
  {
   "cell_type": "code",
   "execution_count": 1,
   "id": "fea518c8",
   "metadata": {},
   "outputs": [],
   "source": [
    "# plot the atoms\n",
    "# the atoms are in order in the PDB files, so we can connect adjacent atoms to obtain protein shape"
   ]
  },
  {
   "cell_type": "markdown",
   "id": "5b1dd42f",
   "metadata": {},
   "source": [
    "If you can't see the plot above, try running the cell below."
   ]
  },
  {
   "cell_type": "code",
   "execution_count": null,
   "id": "849fcf8c",
   "metadata": {},
   "outputs": [],
   "source": [
    "%matplotlib inline"
   ]
  },
  {
   "cell_type": "markdown",
   "id": "75b1719c",
   "metadata": {},
   "source": [
    "# Euler Characteristic Transform"
   ]
  },
  {
   "cell_type": "markdown",
   "id": "3f4d053a",
   "metadata": {},
   "source": [
    "Persistent homology is computationally expensive. This means that the calculations required to compute it are complex and take a long time. If we want to analyze 200 million proteins, we may need something that is more simple computationally. That's where the Euler Characteristic Transform, or ECT, comes in."
   ]
  },
  {
   "cell_type": "code",
   "execution_count": 8,
   "id": "7f2b08d4",
   "metadata": {},
   "outputs": [],
   "source": [
    "# compute the Euler Characteristic curve in the given direction\n",
    "# because proteins have one connected component with no loops, the first entry in the ECC should be 0\n",
    "# and the last entry should be 1\n",
    "# need to choose an appropriate start and end\n",
    "\n",
    "def compute_ecc(data, start_time, end_time, normal):\n",
    "    \"\"\"Computes the Euler characteristic curve along a given direction.\n",
    "\n",
    "    Direction is given by normal vector. Begin by computing the dot product of the normal vector with the starting\n",
    "    point. Incrementally increase starting vector to sweep along normal.\n",
    "    \n",
    "    A plane is given by the equation a*x+b*y+c*z+d=0 where [a,b,c] is the normal. [x, y, z] is the point that\n",
    "    intersects the plane. Thus, we have to calculate d to find all points such that a*x+b*y+c*z+d<0.\n",
    "    \n",
    "    Subtract the number of edges from the number of points to obtain the Euler characteristic at each timestamp.\n",
    "\n",
    "    Parameters\n",
    "    ----------\n",
    "    data : array-like\n",
    "\n",
    "        Input point cloud. Points are assumed to be in order.\n",
    "        \n",
    "    end_time : scalar\n",
    "    \n",
    "        Start time is assumed to be 0. End time is the maximum value that the starting point is multiplied by.\n",
    "        \n",
    "    starting_point: array-like\n",
    "    \n",
    "        This is the center of the first plane\n",
    "        \n",
    "    normal: array-like\n",
    "    \n",
    "        The direction along which to sweep the plane\n",
    "\n",
    "    Returns\n",
    "    -------\n",
    "    ecc : list\n",
    "\n",
    "        The Euler characteristic curve in the given direction.\n",
    "    \"\"\""
   ]
  },
  {
   "cell_type": "markdown",
   "id": "1a159e36",
   "metadata": {},
   "source": [
    "How can the efficiency of the above function be improved? Use the cell magic %%timeit to test any improvements."
   ]
  },
  {
   "cell_type": "markdown",
   "id": "12743bfe",
   "metadata": {},
   "source": [
    "Now it's time to apply the ECT to our data!"
   ]
  },
  {
   "cell_type": "code",
   "execution_count": 9,
   "id": "b881092c",
   "metadata": {
    "scrolled": true
   },
   "outputs": [],
   "source": [
    "# choose a direction and use your function above to compute the ECC for that direction"
   ]
  },
  {
   "cell_type": "markdown",
   "id": "8d76a58a",
   "metadata": {
    "scrolled": true
   },
   "source": [
    "Plot the ECC curve below."
   ]
  },
  {
   "cell_type": "code",
   "execution_count": 2,
   "id": "df23d91a",
   "metadata": {},
   "outputs": [],
   "source": [
    "# plot the curve"
   ]
  },
  {
   "cell_type": "markdown",
   "id": "f624272e",
   "metadata": {},
   "source": [
    "Select a different angle and compute the ECC."
   ]
  },
  {
   "cell_type": "code",
   "execution_count": 11,
   "id": "1c2c54a6",
   "metadata": {},
   "outputs": [],
   "source": [
    "# write your new angle here"
   ]
  },
  {
   "cell_type": "code",
   "execution_count": 3,
   "id": "f61bff0d",
   "metadata": {},
   "outputs": [],
   "source": [
    "# plot the new ECC"
   ]
  },
  {
   "cell_type": "markdown",
   "id": "330dbd1a",
   "metadata": {},
   "source": [
    "Repeat the above three cells 3 more times with different angles, for a total of five different angles. How are the plots for each curve different? How are they similar? There are no wrong answers!"
   ]
  },
  {
   "cell_type": "markdown",
   "id": "d6a06701",
   "metadata": {},
   "source": [
    "Once you have the curves for several different angles, try appending them together."
   ]
  },
  {
   "cell_type": "code",
   "execution_count": null,
   "id": "c8f55558",
   "metadata": {},
   "outputs": [],
   "source": [
    "# concatenate the ECC vectors (arrays) into one long vector (array)\n"
   ]
  },
  {
   "cell_type": "markdown",
   "id": "aa5f0729",
   "metadata": {},
   "source": [
    "Bonus: use the cell magic %%timeit to test the time it takes to compute the ecc for the backbone vs. just the alpha carbons ('CA' atoms only)."
   ]
  },
  {
   "cell_type": "code",
   "execution_count": null,
   "id": "974c80ab",
   "metadata": {},
   "outputs": [],
   "source": [
    "# timing for whole backbone:\n",
    "# timing for alpha carbons only:"
   ]
  },
  {
   "cell_type": "code",
   "execution_count": null,
   "id": "6a51ebbe",
   "metadata": {},
   "outputs": [],
   "source": []
  }
 ],
 "metadata": {
  "kernelspec": {
   "display_name": "Python 3 (ipykernel)",
   "language": "python",
   "name": "python3"
  },
  "language_info": {
   "codemirror_mode": {
    "name": "ipython",
    "version": 3
   },
   "file_extension": ".py",
   "mimetype": "text/x-python",
   "name": "python",
   "nbconvert_exporter": "python",
   "pygments_lexer": "ipython3",
   "version": "3.7.13"
  }
 },
 "nbformat": 4,
 "nbformat_minor": 5
}
